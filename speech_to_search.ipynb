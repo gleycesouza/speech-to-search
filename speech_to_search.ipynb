{
  "nbformat": 4,
  "nbformat_minor": 0,
  "metadata": {
    "colab": {
      "provenance": []
    },
    "kernelspec": {
      "name": "python3",
      "display_name": "Python 3"
    },
    "language_info": {
      "name": "python"
    }
  },
  "cells": [
    {
      "cell_type": "markdown",
      "source": [
        "Instalações e importações necessárias"
      ],
      "metadata": {
        "id": "d4i7G9ePEje7"
      }
    },
    {
      "cell_type": "code",
      "source": [
        "!pip install gTTS\n",
        "!pip install SpeechRecognition pydub\n",
        "!pip install pydub\n",
        "!pip install googlesearch-python"
      ],
      "metadata": {
        "id": "s52HwOdc8F9A"
      },
      "execution_count": null,
      "outputs": []
    },
    {
      "cell_type": "code",
      "source": [
        "from gtts import gTTS\n",
        "import os\n",
        "import speech_recognition as sr\n",
        "from pydub import AudioSegment\n",
        "from googlesearch import search"
      ],
      "metadata": {
        "id": "zBhmEf3P__P1"
      },
      "execution_count": null,
      "outputs": []
    },
    {
      "cell_type": "markdown",
      "source": [
        "## Transformação de texto em áudio (text to speech);\n",
        "\n"
      ],
      "metadata": {
        "id": "7GA2_fIG9RB-"
      }
    },
    {
      "cell_type": "markdown",
      "source": [
        "A função text_to_speech_gtts utiliza a biblioteca gTTS (Google Text-to-Speech) para converter um texto em áudio no idioma português e salvar o resultado como um arquivo MP3. O texto a ser convertido é recebido como parâmetro, e o arquivo gerado é salvo com o nome especificado (padrão: \"output.mp3\"). Essa função é simples e eficiente para criar arquivos de áudio a partir de textos fornecidos."
      ],
      "metadata": {
        "id": "TdGiYakREuaL"
      }
    },
    {
      "cell_type": "code",
      "execution_count": 8,
      "metadata": {
        "colab": {
          "base_uri": "https://localhost:8080/"
        },
        "id": "NOqo8-4W8BdV",
        "outputId": "6dd7f29c-72af-4060-a09a-9439072a2f5a"
      },
      "outputs": [
        {
          "output_type": "stream",
          "name": "stdout",
          "text": [
            "Áudio salvo como exemplo.mp3\n"
          ]
        }
      ],
      "source": [
        "def text_to_speech_gtts(text, filename=\"output.mp3\"):\n",
        "    \"\"\"\n",
        "    Converte texto em áudio usando gTTS e salva como arquivo MP3.\n",
        "\n",
        "    Args:\n",
        "        text (str): O texto a ser convertido em áudio.\n",
        "        filename (str): O nome do arquivo de saída. Padrão é \"output.mp3\".\n",
        "    \"\"\"\n",
        "    # Configurar a conversão do texto em áudio\n",
        "    tts = gTTS(text=text, lang=\"pt\", slow=False)\n",
        "\n",
        "    # Salvar o arquivo de áudio\n",
        "    tts.save(filename)\n",
        "    print(f\"Áudio salvo como {filename}\")\n"
      ]
    },
    {
      "cell_type": "code",
      "source": [
        "text = \"Ellie e Joel, comidinha.\"\n",
        "text_to_speech_gtts(text, \"comidinha.mp3\")"
      ],
      "metadata": {
        "colab": {
          "base_uri": "https://localhost:8080/"
        },
        "id": "Y3uYuGdW8j3A",
        "outputId": "5f321953-2f19-425b-db2c-adf626c22b51"
      },
      "execution_count": 10,
      "outputs": [
        {
          "output_type": "stream",
          "name": "stdout",
          "text": [
            "Áudio salvo como comidinha.mp3\n"
          ]
        }
      ]
    },
    {
      "cell_type": "markdown",
      "source": [
        "## Transformação de fala (linguagem natural humana) em texto (speech to text)"
      ],
      "metadata": {
        "id": "pq40WSPy9XhS"
      }
    },
    {
      "cell_type": "markdown",
      "source": [
        "Aqui foram utilizadas duas funções para trabalhar com áudio. A função speech_to_text utiliza a biblioteca SpeechRecognition para converter um arquivo de áudio nos formatos .wav ou .flac em texto, utilizando a API do Google Speech e suportando o idioma português. Ela captura erros comuns, como áudio não reconhecido ou falhas de conexão. Já a função convert_m4a_to_wav usa a biblioteca pydub para converter arquivos de áudio no formato .m4a para .wav, permitindo que sejam processados por outras funções."
      ],
      "metadata": {
        "id": "Num_GUfuE5nY"
      }
    },
    {
      "cell_type": "code",
      "source": [
        "def speech_to_text(audio_file):\n",
        "    \"\"\"\n",
        "    Converte um arquivo de áudio em texto usando SpeechRecognition.\n",
        "\n",
        "    Args:\n",
        "        audio_file (str): Caminho para o arquivo de áudio (.wav ou .flac).\n",
        "\n",
        "    Returns:\n",
        "        str: Texto transcrito do áudio.\n",
        "    \"\"\"\n",
        "    # Inicializa o reconhecedor de fala\n",
        "    recognizer = sr.Recognizer()\n",
        "\n",
        "    try:\n",
        "        # Carrega o áudio\n",
        "        with sr.AudioFile(audio_file) as source:\n",
        "            print(\"Processando o áudio...\")\n",
        "            audio = recognizer.record(source)  # Lê o áudio\n",
        "\n",
        "        # Realiza o reconhecimento (usando Google Speech API)\n",
        "        text = recognizer.recognize_google(audio, language=\"pt-BR\")  # Ajuste o idioma se necessário\n",
        "        print(\"Texto transcrito:\")\n",
        "        return text\n",
        "\n",
        "    except sr.UnknownValueError:\n",
        "        return \"Não foi possível reconhecer o áudio.\"\n",
        "    except sr.RequestError as e:\n",
        "        return f\"Erro ao conectar ao serviço: {e}\"\n",
        "\n",
        "def convert_m4a_to_wav(input_file, output_file):\n",
        "    \"\"\"Converts an m4a file to wav format.\n",
        "\n",
        "    Args:\n",
        "        input_file: Path to the input m4a file.\n",
        "        output_file: Path to the output wav file.\n",
        "    \"\"\"\n",
        "    try:\n",
        "        sound = AudioSegment.from_file(input_file, format=\"m4a\")\n",
        "        sound.export(output_file, format=\"wav\")\n",
        "        print(f\"Successfully converted {input_file} to {output_file}\")\n",
        "    except FileNotFoundError:\n",
        "        print(f\"Error: Input file {input_file} not found.\")\n",
        "    except Exception as e:\n",
        "        print(f\"An error occurred: {e}\")"
      ],
      "metadata": {
        "id": "84-s7Xep9YOg"
      },
      "execution_count": 15,
      "outputs": []
    },
    {
      "cell_type": "code",
      "source": [
        "input_m4a = \"Gravando.m4a\"\n",
        "convert_m4a_to_wav(input_m4a, \"audio_path.wav\")\n",
        "transcription = speech_to_text(audio_path)\n",
        "print(transcription)"
      ],
      "metadata": {
        "colab": {
          "base_uri": "https://localhost:8080/"
        },
        "id": "bogvhpat-kya",
        "outputId": "f7d9cfb6-ca92-4e59-c650-33ea252ff948"
      },
      "execution_count": 17,
      "outputs": [
        {
          "output_type": "stream",
          "name": "stdout",
          "text": [
            "Successfully converted Gravando.m4a to audio_path.wav\n",
            "Processando o áudio...\n",
            "Texto transcrito:\n",
            "pesquisar a farmácia mais próxima\n"
          ]
        }
      ]
    },
    {
      "cell_type": "markdown",
      "source": [
        "## Assistente de pesquisa no google"
      ],
      "metadata": {
        "id": "1NX34aTtEDxo"
      }
    },
    {
      "cell_type": "markdown",
      "source": [
        "O código realiza uma pesquisa no Google com base em um texto fornecido e retorna os links dos primeiros resultados. A função get_google_results utiliza a biblioteca googlesearch-python para buscar até um número especificado de resultados (padrão: 5) no idioma português. Após executar a busca com o texto o programa exibe os links encontrados em uma lista numerada. Ele também lida com erros gerais, retornando uma mensagem caso algo dê errado durante a busca."
      ],
      "metadata": {
        "id": "VjkaLm7yFVlB"
      }
    },
    {
      "cell_type": "code",
      "source": [
        "def get_google_results(query, num_results=5):\n",
        "    \"\"\"\n",
        "    Realiza uma pesquisa no Google e retorna os links dos resultados.\n",
        "\n",
        "    Args:\n",
        "        query (str): O texto a ser pesquisado.\n",
        "        num_results (int): Número de resultados desejados. Padrão é 5.\n",
        "\n",
        "    Returns:\n",
        "        list: Uma lista com os links dos resultados.\n",
        "    \"\"\"\n",
        "    try:\n",
        "        # Realiza a pesquisa e coleta os resultados\n",
        "        results = list(search(query, num_results=num_results, lang=\"pt\"))\n",
        "        return results\n",
        "    except Exception as e:\n",
        "        return [f\"Erro ao buscar no Google: {e}\"]\n",
        "\n",
        "text = \"como construir um modelo de machine learning\"\n",
        "results = get_google_results(text)\n",
        "\n",
        "print(\"Resultados da pesquisa:\")\n",
        "for i, result in enumerate(results, 1):\n",
        "    print(f\"{i}. {result}\")\n"
      ],
      "metadata": {
        "colab": {
          "base_uri": "https://localhost:8080/"
        },
        "id": "klsQqeqZ_oNc",
        "outputId": "bb06977e-ec50-490d-b6d3-40ecddc27f37"
      },
      "execution_count": 21,
      "outputs": [
        {
          "output_type": "stream",
          "name": "stdout",
          "text": [
            "Resultados da pesquisa:\n",
            "1. https://www.insightlab.ufc.br/6-passos-para-criar-seu-primeiro-projeto-de-machine-learning/\n",
            "2. https://www.cienciaedados.com/os-7-passos-para-construir-modelos-de-machine-learning/\n",
            "3. https://learn.microsoft.com/pt-br/training/paths/create-machine-learn-models/\n",
            "4. https://www.databricks.com/br/glossary/machine-learning-models\n",
            "5. https://itanuromero.medium.com/di%C3%A1rio-de-desenvolvimento-de-software-cria%C3%A7%C3%A3o-de-um-modelo-de-machine-learning-7dac26153461\n"
          ]
        }
      ]
    },
    {
      "cell_type": "markdown",
      "source": [
        "## Assistente de pesquisa no google com resultado da transcrição do áudio para texto"
      ],
      "metadata": {
        "id": "3SVP4KHCEHXE"
      }
    },
    {
      "cell_type": "markdown",
      "source": [
        "A seguir são integrados os processos: conversão de áudio, transcrição de texto e pesquisa no Google. Primeiro, ele converte um arquivo de áudio que foi dado como input no formato .m4a para .wav usando a função convert_m4a_to_wav, necessária para compatibilidade com a transcrição. Em seguida, utiliza a função speech_to_text para transcrever o conteúdo do áudio para texto, empregando a biblioteca SpeechRecognition. Se a transcrição for bem-sucedida, o texto gerado é usado como consulta na função get_google_results, que realiza uma pesquisa no Google e retorna links dos resultados encontrados, exibidos numerados no console. Caso a transcrição falhe, uma mensagem de erro é exibida."
      ],
      "metadata": {
        "id": "z75YBFccFhOA"
      }
    },
    {
      "cell_type": "code",
      "source": [
        "input_m4a = \"input.m4a\"\n",
        "convert_m4a_to_wav(input_m4a, \"audio_path.wav\")\n",
        "transcription = speech_to_text(\"audio_path.wav\")\n",
        "\n",
        "if transcription:\n",
        "    print(transcription)\n",
        "\n",
        "    # Passo 2: Pesquisa no Google\n",
        "    results = get_google_results(transcription)\n",
        "\n",
        "    # Exibe os resultados\n",
        "    print(\"\\nResultados da pesquisa no Google:\")\n",
        "    for i, result in enumerate(results, 1):\n",
        "        print(f\"{i}. {result}\")\n",
        "else:\n",
        "    print(\"Texto não foi transcrito com sucesso.\")\n"
      ],
      "metadata": {
        "colab": {
          "base_uri": "https://localhost:8080/"
        },
        "id": "aje-5gxNAgP0",
        "outputId": "f1dd0889-b62c-498d-ddc8-504ee8526ce3"
      },
      "execution_count": 26,
      "outputs": [
        {
          "output_type": "stream",
          "name": "stdout",
          "text": [
            "Successfully converted input.m4a to audio_path.wav\n",
            "Processando o áudio...\n",
            "Texto transcrito:\n",
            "Defina um modelo de machine learning e Deep lorn\n",
            "\n",
            "Resultados da pesquisa no Google:\n",
            "1. https://www.zendesk.com.br/blog/machine-learning-and-deep-learning/\n",
            "2. https://www.opencadd.com.br/blog/machine-learning-ou-deep-learning\n",
            "3. https://posdigital.pucpr.br/blog/machine-learning-deep-learning\n",
            "4. https://www.databricks.com/br/glossary/machine-learning-models\n",
            "5. https://aws.amazon.com/pt/compare/the-difference-between-machine-learning-and-deep-learning/\n"
          ]
        }
      ]
    }
  ]
}